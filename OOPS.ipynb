{
  "nbformat": 4,
  "nbformat_minor": 0,
  "metadata": {
    "colab": {
      "provenance": []
    },
    "kernelspec": {
      "name": "python3",
      "display_name": "Python 3"
    },
    "language_info": {
      "name": "python"
    }
  },
  "cells": [
    {
      "cell_type": "code",
      "source": [
        "#Theory Question\n",
        "Que 1. What is Object-Oriented Programming (OOP)?\n",
        "Answer - Object-Oriented Programming (OOP) is a programming paradigm that organizes code into classes and objects, making it more modular, reusable, and scalable.\n",
        "\n",
        "Question 2. What is a class in OOP?\n",
        "Answer - A class is a blueprint for creating objects. It defines the attributes and methods that an object of that class will have.\n",
        "\n",
        "Question 3. What is an object in OOP?\n",
        "Answer - An object is an instance of a class. It has its own unique set of attributes and can perform the methods defined in the class.\n",
        "\n",
        "Question 4. What is the difference between abstraction and encapsulation?\n",
        "Answer - A. Abstraction hides implementation details and shows only essential features, focusing on what an object does.\n",
        "         B. Encapsulation restricts direct access to data by bundling it with methods, focusing on how it works and ensuring security.\n",
        "\n",
        "Question 5. What are dunder methods in Python?\n",
        "Answer - Dunder methods (short for \"double underscore\" methods) in Python are special methods with names that begin and\n",
        "          end with double underscores (e.g., __init__, __str__). They are also called magic methods because they enable built-in behaviors\n",
        "          for objects, like initialization, string representation, and operator overloading.\n",
        "\n",
        "Question 6. Explain the concept of inheritance in OOPS?\n",
        "Answer - Inheritance is an Object-Oriented Programming (OOP) concept where a child class (subclass) acquires properties and behaviors (methods) from a parent class (superclass).\n",
        "          It promotes code reusability and hierarchical relationships between classes.\n",
        "\n",
        "          Types of Inheritance\n",
        "          Single Inheritance - One child class inherits from one parent class.\n",
        "\n",
        "          Multiple Inheritance - A child class inherits from multiple parent classes.\n",
        "\n",
        "          Multilevel Inheritance - A child class inherits from a parent, which itself inherits from another class.\n",
        "\n",
        "          Hierarchical Inheritance - Multiple child classes inherit from a single parent.\n",
        "\n",
        "          Hybrid Inheritance - A combination of two or more types of inheritance.\n",
        "\n",
        "Question 7. What is polymorphism in OOP?\n",
        "Answer - Polymorphism is an Object-Oriented Programming (OOP) concept that allows one interface to be used for different data types or classes.\n",
        "          It enables objects of different classes to be treated as objects of a common superclass, promoting flexibility and code reusability.\n",
        "\n",
        "Question 8. How is encapsulation achieved in Python?\n",
        "Answer - Encapsulation is an Object-Oriented Programming (OOP) concept that restricts direct access to an object's data and allows modification only through defined methods.\n",
        "          It is achieved using access modifiers (public, protected, private) in Python.\n",
        "\n",
        "Question 9. What is a constructor in Python?\n",
        "Answer - A constructor is a special method in Python used to initialize objects when a class is instantiated.\n",
        "          In Python, the constructor method is __init__(), and it is automatically called when an object is created.\n",
        "\n",
        "Question 10. What are class and static methods in Python?\n",
        "Answer - Class Method - Works on class-level data and takes cls as the first parameter.\n",
        "                        Can modify class attributes.\n",
        "\n",
        "          Example: class Employee:\n",
        "                      company = \"TechCorp\"\n",
        "\n",
        "                      @classmethod\n",
        "                      def set_company(cls, new_name):\n",
        "                          cls.company = new_name\n",
        "\n",
        "                  Employee.set_company(\"NewTech\")\n",
        "                  print(Employee.company)\n",
        "\n",
        "          Static Method - Does not access instance (self) or class (cls) attributes.\n",
        "                          Used for utility/helper functions inside a class.\n",
        "          Example: class MathOperations:\n",
        "                      @staticmethod\n",
        "                      def add(a, b):\n",
        "                          return a + b\n",
        "\n",
        "                  print(MathOperations.add(5, 3))\n",
        "\n",
        "Question 11. What is method overloading in Python?\n",
        "Answer - Method Overloading in python is that two or more same function with different parameter in one class.\n",
        "          Example:\n",
        "          class A:\n",
        "            def add(self,a,b):\n",
        "              return a+b\n",
        "            def add(self,a,b,c):\n",
        "              return a+b+c\n",
        "          obj=A()\n",
        "          print(obj.add(1,2,3))\n",
        "          print(obj.add(1,2))\n",
        "\n",
        "          In this last call function is main like that if we add function with two parameter after we call add(2,3) it works.\n",
        "\n",
        "Question 12. What is method overriding in OOP?\n",
        "Answer -  Method overriding in python is that two or more same function with different or same parameter in different class.\n",
        "          Example:\n",
        "          class A:\n",
        "            def add(self,a,b):\n",
        "              return a+b\n",
        "          class B(A):\n",
        "            def add(self,a,b):\n",
        "              return a+b\n",
        "\n",
        "Question 13. What is a property decorator in Python?\n",
        "Answer - Property decorator is a decorator after apply this when we call function then no need of parenthesis.\n",
        "          Example:\n",
        "          class A:\n",
        "            def add(self,a,b):\n",
        "              return a+b\n",
        "\n",
        "            @property\n",
        "            def add(self):\n",
        "              return self.add\n",
        "          obj=A()\n",
        "          print(obj.add(1,2))\n",
        "          print(obj.add)\n",
        "\n",
        "Question 14. Why is polymorphism important in OOP?\n",
        "Answer - Polymorphism is an Object-Oriented Programming (OOP) concept that allows one interface to be used for different data types or classes.\n",
        "          It enables objects of different classes to be treated as objects of a common superclass, promoting flexibility and code reusability.\n",
        "          Overloading and Overriding are two types of polymorphism.\n",
        "          Example of Overiding:\n",
        "          class A:\n",
        "            def add(self,a,b):\n",
        "              return a+b\n",
        "          class B(A):\n",
        "            def add(self,a,b):\n",
        "              return a+b\n",
        "\n",
        "          Example of Overloading:\n",
        "          class A:\n",
        "            def add(self,a,b):\n",
        "              return a+b\n",
        "            def add(self,a,b,c):\n",
        "              return a+b+c\n",
        "\n",
        "Question 15.  What is an abstract class in Python?\n",
        "Answer - An abstract class in Python is a class that cannot be instantiated and serves as a blueprint for other classes.\n",
        "          It defines abstract methods (methods without implementation) that must be implemented by subclasses.\n",
        "          Example:\n",
        "          import abc\n",
        "          class A:\n",
        "            @abc.abstractmethod\n",
        "            def add(self,a,b):\n",
        "              pass\n",
        "          class B(A):\n",
        "            def add(self,a,b):\n",
        "              return a+b\n",
        "\n",
        "Question 16. What are the advantages of OOP?\n",
        "Answer - OOP has several advantages:\n",
        "          1. Modularity and Reusability\n",
        "          2. Encapsulation\n",
        "          3. Abstraction\n",
        "          4. Inheritance\n",
        "          5. Polymorphism\n",
        "\n",
        "          We combine all function and methods in one class and use it in another class.\n",
        "          It gives clarity to do work.\n",
        "          Example:\n",
        "          class Data Science:\n",
        "            def Python(self):\n",
        "              print(\"Python of Data Science\")\n",
        "            def MachineLearning(self):\n",
        "              print(\"Machine Learning of Data Science\")\n",
        "            def DeepLearning(self):\n",
        "              print(\"Deep Learning of Data Science\")\n",
        "\n",
        "          class WebDevelopment:\n",
        "            def Python(self):\n",
        "              print(\"Python of Web Development\")\n",
        "            def Django(self):\n",
        "              print(\"Django of Web Development\")\n",
        "            def Flask(self):\n",
        "              print(\"Flask of Web Development\")\n",
        "\n",
        "          DS=DataScience()\n",
        "          WD=WebDevelopment()\n",
        "\n",
        "          DS.Python()\n",
        "          DS.MachineLearning()\n",
        "          DS.DeepLearning()\n",
        "\n",
        "          WD.Python()\n",
        "          WD.Django()\n",
        "          WD.Flask()\n",
        "\n",
        "Question 17. What is the difference between class variables and instance variables?\n",
        "Answer - Class variables are shared among all instances of a class, while instance variables are specific to each instance.\n",
        "          Example:\n",
        "          class A:\n",
        "            a=10\n",
        "            def __init__(self,b):\n",
        "              self.b=b\n",
        "          obj=A(20)\n",
        "          print(obj.a)\n",
        "          print(obj.b)\n",
        "\n",
        "Question 18. What is multiple inheritance in Python?\n",
        "Answer - Multiple inheritance is a feature in Python where a class can inherit attributes and methods from multiple parent classes.\n",
        "          Example:\n",
        "          class A:\n",
        "            def add(self,a,b):\n",
        "              return a+b\n",
        "          class B:\n",
        "            def sub(self,a,b):\n",
        "              return a-b\n",
        "          class C(A,B):\n",
        "            def mul(self,a,b):\n",
        "              return a*b\n",
        "          obj=C()\n",
        "          print(obj.add(1,2))\n",
        "          print(obj.sub(1,2))\n",
        "          print(obj.mul(1,2))\n",
        "\n",
        "Question 19. Explain the purpose of \"__str__'and '__repr__\" methods in Python?\n",
        "Answer - __str__ and __repr__ are special methods in Python that are used to define the string representation of an object.\n",
        "          Example:\n",
        "          class A:\n",
        "            def __init__(self,a):\n",
        "              self.a=a\n",
        "            def __str__(self):\n",
        "              return f\"This is {self.a}\"\n",
        "            def __repr__(self):\n",
        "              return f\"This is {self.a}\"\n",
        "\n",
        "          obj=A(10)\n",
        "          print(obj)\n",
        "          print(str(obj))\n",
        "          print(repr(obj))\n",
        "\n",
        "Question 20. What is the significance of the 'super()' function in Python?\n",
        "Answer - The super() function in Python is used to call a method from a parent class in a subclass.\n",
        "          Example:\n",
        "          class A:\n",
        "            def add(self,a,b):\n",
        "              return a+b\n",
        "          class B(A):\n",
        "            def add(self,a,b):\n",
        "              return super().add(a,b)\n",
        "\n",
        "          obj=B()\n",
        "          print(obj.add(1,2))\n",
        "\n",
        "Question 21. What is the significance of the __del__ method in Python?\n",
        "Answer - The __del__ method in Python is a special method that is called when an object is about to be destroyed.\n",
        "          Example:\n",
        "          class A:\n",
        "            def __init__(self,a):\n",
        "              self.a=a\n",
        "            def __del__(self):\n",
        "              print(f\"{self.a} is deleted\")\n",
        "\n",
        "          obj=A(10)\n",
        "          del obj\n",
        "          print(obj)\n",
        "\n",
        "Question 22. What is the difference between @staticmethod and @classmethod in Python?\n",
        "Answer - @staticmethod and @classmethod are decorators in Python used to define methods that are associated with a class rather than an instance of the class.\n",
        "          Example:\n",
        "          class A:\n",
        "            @classmethod\n",
        "            def add(cls,a,b):\n",
        "              return a+b\n",
        "            @staticmethod\n",
        "            def sub(a,b):\n",
        "              return a-b\n",
        "\n",
        "          print(A.add(1,2))\n",
        "          print(A.sub(1,2))\n",
        "\n",
        "Question 23. How does polymorphism work in Python with inheritance?\n",
        "Answer - Polymorphism in Python with inheritance is achieved through method overriding.\n",
        "          Example:\n",
        "          class A:\n",
        "            def add(self,a,b):\n",
        "              return a+b\n",
        "          class B(A):\n",
        "            def add(self,a,b):\n",
        "              return a+b\n",
        "\n",
        "          obj=B()\n",
        "          print(obj.add(1,2))\n",
        "\n",
        "Question 24. What is method chaining in Python OOP?\n",
        "Answer - Method chaining in Python OOP is a technique where multiple method calls are chained together in a single line.\n",
        "          Example:\n",
        "          class A:\n",
        "            def add(self,a,b):\n",
        "              self.a=a\n",
        "              self.b=b\n",
        "              return self\n",
        "            def sub(self):\n",
        "              return self.a-self.b\n",
        "\n",
        "          obj=A()\n",
        "          print(obj.add(1,2).sub())\n",
        "\n",
        "Question 25. What is the purpose of the __call__ method in Python?\n",
        "Answer - The __call__ method in Python is a special method that is called when an object is called as a function.\n",
        "          Example:\n",
        "          class A:\n",
        "            def __init__(self,a):\n",
        "              self.a=a\n",
        "            def __call__(self,b):\n",
        "              return self.a+b\n",
        "\n",
        "          obj=A(10)\n",
        "          print(obj(20))\n",
        "\n",
        "\n",
        "\n",
        "\n",
        "\n",
        "\n"
      ],
      "metadata": {
        "id": "PLUTOs6jq3jF"
      },
      "execution_count": null,
      "outputs": []
    },
    {
      "cell_type": "code",
      "execution_count": 2,
      "metadata": {
        "colab": {
          "base_uri": "https://localhost:8080/"
        },
        "id": "LSqFKMe98d_D",
        "outputId": "c41a51d2-a519-42dc-8fb8-5660c8429a0f"
      },
      "outputs": [
        {
          "output_type": "stream",
          "name": "stdout",
          "text": [
            "Dog barks\n"
          ]
        }
      ],
      "source": [
        "#Pratical Questions\n",
        "#Que 1. Create a parent class Animal with a method speak() that prints a generic message. Create a child class Dog that overrides the speak() method to print \"Bark!\".\n",
        "class Animal:\n",
        "  def speak(self):\n",
        "    print(\"Animal sound\")\n",
        "class Dog(Animal):\n",
        "  def speak(self):\n",
        "    print(\"Dog barks\")\n",
        "obj=Dog()\n",
        "obj.speak()"
      ]
    },
    {
      "cell_type": "code",
      "source": [
        "#Que 2. Write a program to create an abstract class Shape with a method area(). Derive classes Circle and Rectangle from it and implement the area() method in both.\n",
        "import abc\n",
        "class Shape:\n",
        "  @abc.abstractmethod\n",
        "  def area(self):\n",
        "    pass\n",
        "\n",
        "class Rectangle(Shape):\n",
        "  def __init__(self,length,width):\n",
        "    self.length=length\n",
        "    self.width=width\n",
        "  def area(self):\n",
        "    return self.length*self.width\n",
        "class Circle(Shape):\n",
        "  def __init__(self,radius):\n",
        "    self.radius=radius\n",
        "  def area(self):\n",
        "    return 3.14*self.radius*self.radius\n",
        "\n",
        "R=Rectangle(4,5)\n",
        "print(R.area())\n",
        "C=Circle(5)\n",
        "print(C.area())"
      ],
      "metadata": {
        "id": "fr9dS7t6CUGq"
      },
      "execution_count": null,
      "outputs": []
    },
    {
      "cell_type": "code",
      "source": [
        "#Que 3.  Implement a multi-level inheritance scenario where a class Vehicle has an attribute type. Derive a class Car and further derive a class ElectricCar that adds a battery attribute.\n",
        "class Vehicle:\n",
        "  def __init__(self,type):\n",
        "    self.type=type\n",
        "class Car(Vehicle):\n",
        "  def __init__(self,type,model):\n",
        "    super().__init__(type)\n",
        "    self.model=model\n",
        "class ElectricCar(Car):\n",
        "  def __init__(self,type,model,battery):\n",
        "    super().__init__(type,model)\n",
        "    self.battery=battery\n",
        "ec=ElectricCar(\"Electric\",\"Tesla\",10000)\n",
        "print(ec.type)\n",
        "print(ec.model)\n",
        "print(ec.battery)"
      ],
      "metadata": {
        "colab": {
          "base_uri": "https://localhost:8080/"
        },
        "id": "kreBOV7H93rO",
        "outputId": "05b7acdb-b99a-44a2-aabc-473badc730ec"
      },
      "execution_count": 4,
      "outputs": [
        {
          "output_type": "stream",
          "name": "stdout",
          "text": [
            "Electric\n",
            "Tesla\n",
            "10000\n"
          ]
        }
      ]
    },
    {
      "cell_type": "code",
      "source": [
        "#Que 4.  Demonstrate polymorphism by creating a base class Bird with a method fly(). Create two derived classes Sparrow and Penguin that override the fly() method.\n",
        "class Bird:\n",
        "  def fly(self):\n",
        "    print(\"Bird is flying\")\n",
        "class Sparrow(Bird):\n",
        "  def fly(self):\n",
        "    print(\"Sparrow is flying\")\n",
        "class Penguin(Bird):\n",
        "  def fly(self):\n",
        "    print(\"Penguin is flying\")\n",
        "s=Sparrow()\n",
        "s.fly()\n",
        "p=Penguin()\n",
        "p.fly()"
      ],
      "metadata": {
        "colab": {
          "base_uri": "https://localhost:8080/"
        },
        "id": "vIIXlP6x-8Dd",
        "outputId": "138ec751-8952-4e49-e872-5e9cdda2ea7e"
      },
      "execution_count": 5,
      "outputs": [
        {
          "output_type": "stream",
          "name": "stdout",
          "text": [
            "Sparrow is flying\n",
            "Penguin is flying\n"
          ]
        }
      ]
    },
    {
      "cell_type": "code",
      "source": [
        "#Que 5. Write a program to demonstrate encapsulation by creating a class BankAccount with private attributes balance and methods to deposit, withdraw, and check balance.\n",
        "class BankAccount:\n",
        "  def __init__(self, balance):\n",
        "    self.__balance=balance\n",
        "  def deposit(self, amount):\n",
        "    self.__balance+=amount\n",
        "  def withdraw(self, amount):\n",
        "    if self.__balance>=amount:\n",
        "      self.__balance-=amount\n",
        "    else:\n",
        "      print(\"Insufficient balance\")\n",
        "\n",
        "  def check_balance(self):\n",
        "    return self.__balance\n",
        "b=BankAccount(1000)\n",
        "b.deposit(500)\n",
        "b.withdraw(200)\n",
        "print(b.check_balance())\n",
        ""
      ],
      "metadata": {
        "colab": {
          "base_uri": "https://localhost:8080/"
        },
        "id": "OVSgvQkpAy2c",
        "outputId": "64d1b1ac-5e50-4789-f05a-8f80bc31d925"
      },
      "execution_count": 10,
      "outputs": [
        {
          "output_type": "stream",
          "name": "stdout",
          "text": [
            "1300\n"
          ]
        }
      ]
    },
    {
      "cell_type": "code",
      "source": [
        "#Que 6.  Demonstrate runtime polymorphism using a method play() in a base class Instrument. Derive classes Guitar and Piano that implement their own version of play().\n",
        "class Instrument:\n",
        "  def play(self):\n",
        "    print(\"Instrument is playing\")\n",
        "class Guitar(Instrument):\n",
        "  def play(self):\n",
        "    print(\"Guitar is playing\")\n",
        "class Piano(Instrument):\n",
        "  def play(self):\n",
        "    print(\"Piano is playing\")\n",
        "\n",
        "p=Piano()\n",
        "p.play()\n",
        "g=Guitar()\n",
        "g.play()"
      ],
      "metadata": {
        "colab": {
          "base_uri": "https://localhost:8080/"
        },
        "id": "LJ7AXu2OCK2g",
        "outputId": "c36bd485-5055-4bd9-e6c8-d719caff085f"
      },
      "execution_count": 11,
      "outputs": [
        {
          "output_type": "stream",
          "name": "stdout",
          "text": [
            "Piano is playing\n",
            "Guitar is playing\n"
          ]
        }
      ]
    },
    {
      "cell_type": "code",
      "source": [
        "#Que 7.  Create a class MathOperations with a class method add_numbers() to add two numbers and a static method subtract_numbers() to subtract two numbers.\n",
        "class MathOperations:\n",
        "  @classmethod\n",
        "  def add_numbers(cls,a,b):\n",
        "    return a+b\n",
        "  @staticmethod\n",
        "  def subtract_numbers(a,b):\n",
        "    return a-b\n",
        "\n",
        "print(MathOperations.add_numbers(2,3))\n",
        "print(MathOperations.subtract_numbers(2,3))\n",
        "\n"
      ],
      "metadata": {
        "colab": {
          "base_uri": "https://localhost:8080/"
        },
        "id": "GzY_xhO8Dx3_",
        "outputId": "7c5b38af-ce55-4b2f-9095-812f8f9acc5f"
      },
      "execution_count": 12,
      "outputs": [
        {
          "output_type": "stream",
          "name": "stdout",
          "text": [
            "5\n",
            "-1\n"
          ]
        }
      ]
    },
    {
      "cell_type": "code",
      "source": [
        "#Que 8. Implement a class Person with a class method to count the total number of persons created.\n",
        "class Person:\n",
        "  count=0\n",
        "  def __init__(self):\n",
        "    Person.count+=1\n",
        "  @classmethod\n",
        "  def count_total_person(cls):\n",
        "    return cls.count\n",
        "\n",
        "Person()\n",
        "Person()\n",
        "print(Person.count_total_person())"
      ],
      "metadata": {
        "colab": {
          "base_uri": "https://localhost:8080/"
        },
        "id": "x9Jg5qNsFpSp",
        "outputId": "2e06514b-1074-447f-cef6-151bffd6b8ee"
      },
      "execution_count": 16,
      "outputs": [
        {
          "output_type": "stream",
          "name": "stdout",
          "text": [
            "2\n"
          ]
        }
      ]
    },
    {
      "cell_type": "code",
      "source": [
        "#Que 9. Write a class Fraction with attributes numerator and denominator. Override the str method to display the fraction as \"numerator/denominator\".\n",
        "class Fraction:\n",
        "  def __init__(self,numerator,denominator):\n",
        "    self.numerator=numerator\n",
        "    self.denominator=denominator\n",
        "  def __str__(self):\n",
        "    return f\"{self.numerator}/{self.denominator}\"\n",
        "\n",
        "f=Fraction(1,2)\n",
        "print(f)"
      ],
      "metadata": {
        "colab": {
          "base_uri": "https://localhost:8080/"
        },
        "id": "ydUzJkJLHWIf",
        "outputId": "4fc99828-2591-464d-dfe5-29a678f0b994"
      },
      "execution_count": 18,
      "outputs": [
        {
          "output_type": "stream",
          "name": "stdout",
          "text": [
            "1/2\n"
          ]
        }
      ]
    },
    {
      "cell_type": "code",
      "source": [
        "#Que 10.  Demonstrate operator overloading by creating a class Vector and overriding the add method to add two vectors.\n",
        "class Vector:\n",
        "  def __init__(self,x,y):\n",
        "    self.x=x\n",
        "    self.y=y\n",
        "  def __add__(self,other):\n",
        "    return Vector(self.x+other.x,self.y+other.y)\n",
        "  def display(self):\n",
        "        print(f\"({self.x}, {self.y})\")\n",
        "v1=Vector(1,2)\n",
        "v2=Vector(3,4)\n",
        "v3=v1+v2\n",
        "print(v3.display())"
      ],
      "metadata": {
        "colab": {
          "base_uri": "https://localhost:8080/"
        },
        "id": "ELoW0P_NHgDR",
        "outputId": "a58871d1-a221-4266-82c6-17e6a4e40b43"
      },
      "execution_count": 23,
      "outputs": [
        {
          "output_type": "stream",
          "name": "stdout",
          "text": [
            "(4, 6)\n",
            "None\n"
          ]
        }
      ]
    },
    {
      "cell_type": "code",
      "source": [
        "#Que 11. Create a class Person with attributes name and age. Add a method greet() that prints \"Hello, my name is {name} and I am {age} years old.\"\n",
        "class Person:\n",
        "  def __init__(self,name,age):\n",
        "    self.name=name\n",
        "    self.age=age\n",
        "  def greet(self):\n",
        "    print(f\"Hello, my name is {self.name} and I am {self.age} years old.\")\n",
        "\n",
        "p=Person(\"Dinesh\",19)\n",
        "p.greet()"
      ],
      "metadata": {
        "colab": {
          "base_uri": "https://localhost:8080/"
        },
        "id": "QdFN4k5RSMBz",
        "outputId": "2de24a59-236c-40f0-eefd-b54622320913"
      },
      "execution_count": 25,
      "outputs": [
        {
          "output_type": "stream",
          "name": "stdout",
          "text": [
            "Hello, my name is Dinesh and I am 19 years old.\n"
          ]
        }
      ]
    },
    {
      "cell_type": "code",
      "source": [
        "#Que 12.  Implement a class Student with attributes name and grades. Create a method average_grade() to compute the average of the grades.\n",
        "class Student:\n",
        "  def __init__(self, name, grades):\n",
        "    self.name = name\n",
        "    self.grades = grades\n",
        "\n",
        "  def average_grade(self):\n",
        "    total = sum(self.grades)\n",
        "    average = total / len(self.grades)\n",
        "    return average\n",
        "\n",
        "student1 = Student(\"Dinesh\", [90, 85, 92, 88])\n",
        "print(student1.average_grade())"
      ],
      "metadata": {
        "colab": {
          "base_uri": "https://localhost:8080/"
        },
        "id": "tR5oAcJARrGg",
        "outputId": "e138900d-7cc2-4f98-e53f-6a03add64e0f"
      },
      "execution_count": 26,
      "outputs": [
        {
          "output_type": "stream",
          "name": "stdout",
          "text": [
            "88.75\n"
          ]
        }
      ]
    },
    {
      "cell_type": "code",
      "source": [
        "#Que 13. Create a class Rectangle with methods set_dimensions() to set the dimensions and area() to calculate the area.\n",
        "class Rectangle:\n",
        "  def __init__(self,length,width):\n",
        "    self.length=length\n",
        "    self.width=width\n",
        "  def set_dimensions(self,length,width):\n",
        "    self.length=length\n",
        "    self.width=width\n",
        "  def area(self):\n",
        "    return self.length*self.width\n",
        "r=Rectangle(4,5)\n",
        "print(r.area())\n",
        "r.set_dimensions(6,7)\n",
        "print(r.area())\n"
      ],
      "metadata": {
        "colab": {
          "base_uri": "https://localhost:8080/"
        },
        "id": "M7tKWWrbSgxK",
        "outputId": "8ba7caad-f3f5-4242-c6dd-4e3ab65c27fb"
      },
      "execution_count": 27,
      "outputs": [
        {
          "output_type": "stream",
          "name": "stdout",
          "text": [
            "20\n",
            "42\n"
          ]
        }
      ]
    },
    {
      "cell_type": "code",
      "source": [
        "#Que 14. Create a class Employee with a method calculate_salary() that computes the salary based on hours worked and hourly rate. Create a derived class Manager that adds a bonus to the salary.\n",
        "class Employee:\n",
        "  def __init__(self,name,hours_worked,hourly_rate):\n",
        "    self.name=name\n",
        "    self.hours_worked=hours_worked\n",
        "    self.hourly_rate=hourly_rate\n",
        "  def calculate_salary(self):\n",
        "    return self.hours_worked*self.hourly_rate\n",
        "\n",
        "class Manager(Employee):\n",
        "  def __init__(self,name,hours_worked,hourly_rate,bonus):\n",
        "    super().__init__(name,hours_worked,hourly_rate)\n",
        "    self.bonus=bonus\n",
        "  def calculate_salary(self):\n",
        "    salary=super().calculate_salary()\n",
        "    return salary+self.bonus\n",
        "\n",
        "m=Manager(\"Dinesh\",10,100,1000)\n",
        "print(m.calculate_salary())"
      ],
      "metadata": {
        "colab": {
          "base_uri": "https://localhost:8080/"
        },
        "id": "QctZAOYUTP0B",
        "outputId": "8d62b875-2c73-4d18-8365-6660e56b47a4"
      },
      "execution_count": 2,
      "outputs": [
        {
          "output_type": "stream",
          "name": "stdout",
          "text": [
            "2000\n"
          ]
        }
      ]
    },
    {
      "cell_type": "code",
      "source": [
        "#Que 15. Create a class Product with attributes name, price, and quantity. Implement a method total_price() that calculates the total price of the product.\n",
        "class Product:\n",
        "  def __init__(self,name,price,quantity):\n",
        "    self.name=name\n",
        "    self.price=price\n",
        "    self.quantity=quantity\n",
        "  def total_price(self):\n",
        "    return self.price*self.quantity\n",
        "\n",
        "p=Product(\"Dinesh\",100,2)\n",
        "print(p.total_price())"
      ],
      "metadata": {
        "colab": {
          "base_uri": "https://localhost:8080/"
        },
        "id": "2l_cbfEelg9O",
        "outputId": "0b279d12-52fd-4518-fb06-44d64c2a0c29"
      },
      "execution_count": 3,
      "outputs": [
        {
          "output_type": "stream",
          "name": "stdout",
          "text": [
            "200\n"
          ]
        }
      ]
    },
    {
      "cell_type": "code",
      "source": [
        "#Que 16. Create a class Animal with an abstract method sound(). Create two derived classes Cow and Sheep that implement the sound() method.\n",
        "import abc\n",
        "class Animal:\n",
        "  @abc.abstractmethod\n",
        "  def sound(self):\n",
        "    pass\n",
        "class Cow(Animal):\n",
        "  def sound(self):\n",
        "    print(\"Moo\")\n",
        "class Sheep(Animal):\n",
        "  def sound(self):\n",
        "    print(\"Baa\")\n",
        "\n",
        "c=Cow()\n",
        "c.sound()\n",
        "s=Sheep()\n",
        "s.sound()\n"
      ],
      "metadata": {
        "colab": {
          "base_uri": "https://localhost:8080/"
        },
        "id": "7jxD9cmClhmT",
        "outputId": "c18709ae-d21f-40ec-e66c-e73760a68386"
      },
      "execution_count": 4,
      "outputs": [
        {
          "output_type": "stream",
          "name": "stdout",
          "text": [
            "Moo\n",
            "Baa\n"
          ]
        }
      ]
    },
    {
      "cell_type": "code",
      "source": [
        "#Que 17. Create a class Book with attributes title, author, and year_published. Add a method get_book_info() that returns a formatted string with the book's details.\n",
        "class Book:\n",
        "  def __init__(self,title,author,year_published):\n",
        "    self.title=title\n",
        "    self.author=author\n",
        "    self.year_published=year_published\n",
        "  def get_book_info(self):\n",
        "    return f\"Title: {self.title}\\nAuthor: {self.author}\\nYear Published: {self.year_published}\"\n",
        "b=Book(\"Harry Potter\",\"J.K. Rowling\",1997)\n",
        "print(b.get_book_info())"
      ],
      "metadata": {
        "colab": {
          "base_uri": "https://localhost:8080/"
        },
        "id": "cQIu9fJRqSnl",
        "outputId": "431307bb-1442-49db-c64c-9cb7ede77b98"
      },
      "execution_count": 7,
      "outputs": [
        {
          "output_type": "stream",
          "name": "stdout",
          "text": [
            "Title: Harry Potter\n",
            "Author: J.K. Rowling\n",
            "Year Published: 1997\n"
          ]
        }
      ]
    },
    {
      "cell_type": "code",
      "source": [
        "#Que 18. Create a class House with attributes address and price. Create a derived class Mansion that adds an attribute number_of_rooms.\n",
        "class House:\n",
        "  def __init__(self,address,price):\n",
        "    self.address=address\n",
        "    self.price=price\n",
        "\n",
        "class Mansion(House):\n",
        "  def __init__(self,address,price,number_of_rooms):\n",
        "    super().__init__(address,price)\n",
        "    self.number_of_rooms=number_of_rooms\n",
        "\n",
        "m=Mansion(\"123 Main St\",100000,10)\n",
        "print(m.address)\n",
        "print(m.price)\n",
        "print(m.number_of_rooms)"
      ],
      "metadata": {
        "colab": {
          "base_uri": "https://localhost:8080/"
        },
        "id": "9vpefUYMqYGA",
        "outputId": "760c5216-b8a2-45dd-ef29-6361643d6a36"
      },
      "execution_count": 8,
      "outputs": [
        {
          "output_type": "stream",
          "name": "stdout",
          "text": [
            "123 Main St\n",
            "100000\n",
            "10\n"
          ]
        }
      ]
    },
    {
      "cell_type": "code",
      "source": [],
      "metadata": {
        "id": "ckVspUHDqyo0"
      },
      "execution_count": null,
      "outputs": []
    }
  ]
}